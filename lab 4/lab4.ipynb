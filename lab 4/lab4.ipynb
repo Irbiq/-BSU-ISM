{
 "cells": [
  {
   "cell_type": "code",
   "execution_count": 19,
   "metadata": {
    "collapsed": true
   },
   "outputs": [],
   "source": [
    "import math\n",
    "import random\n",
    "import numpy as np"
   ]
  },
  {
   "cell_type": "code",
   "execution_count": 10,
   "metadata": {},
   "outputs": [
    {
     "name": "stdout",
     "output_type": "stream",
     "text": [
      "Wolfram : 0.132424\n",
      "Numerical integration = 0.13235991409370818\n"
     ]
    }
   ],
   "source": [
    "\n",
    "# define any function here!\n",
    "def f(x):\n",
    "    return x**10*math.sqrt(1+2*x**8)\n",
    "def f2(x):\n",
    "    return 1/(1+x**3)\n",
    "# define any xmin-xmax interval here! (xmin < xmax)\n",
    "xmin = 0.0\n",
    "xmax = 1.0\n",
    "\n",
    "# find ymin-ymax\n",
    "numSteps = 1000000 # bigger the better but slower!\n",
    "ymin = f(xmin)\n",
    "ymax = ymin\n",
    "for i in range(numSteps):\n",
    "    x = xmin + (xmax - xmin) * float(i) / numSteps\n",
    "    y = f(x)\n",
    "    if y < ymin: ymin = y\n",
    "    if y > ymax: ymax = y\n",
    "\n",
    "# Monte Carlo\n",
    "rectArea = (xmax - xmin) * (ymax - ymin)\n",
    "numPoints = 1000000 # bigger the better but slower!\n",
    "ctr = 0\n",
    "for j in range(numPoints):\n",
    "    x = xmin + (xmax - xmin) * random.random()\n",
    "    y = ymin + (ymax - ymin) * random.random()\n",
    "    if math.fabs(y) <= math.fabs(f(x)):\n",
    "        if f(x) > 0 and y > 0 and y <= f(x):\n",
    "            ctr += 1 # area over x-axis is positive\n",
    "        if f(x) < 0 and y < 0 and y >= f(x):\n",
    "            ctr -= 1 # area under x-axis is negative\n",
    "\n",
    "fnArea = rectArea * float(ctr) / numPoints\n",
    "\n",
    "print (\"Numerical integration = \" + str(fnArea))\n",
    "\n",
    "\n"
   ]
  },
  {
   "cell_type": "code",
   "execution_count": 72,
   "metadata": {},
   "outputs": [
    {
     "name": "stdout",
     "output_type": "stream",
     "text": [
      "Wolfram 1int : \t\t 0.132424\n",
      "Monte-Carlo 1int : \t 0.13067576560703786\n",
      "Wolfram 2int : \t\t 1.2091995761561\n",
      "Monte-Carlo 2int : \t 2.04181782699\n",
      "Monte-Carlo 3int : \t 9.57723849043\n"
     ]
    }
   ],
   "source": [
    "def f(x):\n",
    "    return x**10*math.sqrt(1+2*x**8)\n",
    "def f2(x):\n",
    "    return 1/(1+x**3)\n",
    "'''np.random.rand()'''\n",
    "x_arr = [  np.random.uniform(0,1)/1  for x in range(10000) ]\n",
    "\n",
    "\n",
    "integral_a = sum(f(x) for x in x_arr)/len(x_arr)\n",
    "print(\"Wolfram 1int : \\t\\t 0.132424\")\n",
    "print(\"Monte-Carlo 1int : \\t\",integral_a)\n",
    "\n",
    "x_arr2 = [np.random.exponential(1) for x in range (10000)]\n",
    "integral_b =  sum(f2(x)/np.exp(-x) for x in x_arr2)/len(x_arr2)\n",
    "\n",
    "print(\"Wolfram 2int : \\t\\t 1.2091995761561\")\n",
    "print(\"Monte-Carlo 2int : \\t\",integral_b)\n",
    "\n",
    "def f3(x,y):\n",
    "    return np.log(1/(x**2+y**2)**(-2))\n",
    "\n",
    "def f4():\n",
    "    return 1\n",
    "\n",
    "x_3 = list()\n",
    "y_3 = list()\n",
    "\n",
    "\n",
    "counter = 0 \n",
    "while counter <1000:\n",
    "    x = np.random.uniform(-2,2)\n",
    "    y = np.random.uniform(-2,2)\n",
    "    if x**2+y**2<4:\n",
    "        counter+=1\n",
    "        x_3.append(x)\n",
    "        y_3.append(y)\n",
    "\n",
    "def integral_c():\n",
    "    integral_value = 0\n",
    "    n = len(x_3)\n",
    "    for i in range(n):\n",
    "        integral_value += f3(x_3[i],y_3[i])\n",
    "        #integral_value += f4()\n",
    "    return integral_value*4*np.pi/n\n",
    "\n",
    "print(\"Monte-Carlo 3int : \\t\",integral_c())\n",
    "\n"
   ]
  },
  {
   "cell_type": "code",
   "execution_count": 16,
   "metadata": {
    "collapsed": true
   },
   "outputs": [],
   "source": [
    "?np.random.exponential\n"
   ]
  },
  {
   "cell_type": "code",
   "execution_count": null,
   "metadata": {
    "collapsed": true
   },
   "outputs": [],
   "source": []
  }
 ],
 "metadata": {
  "kernelspec": {
   "display_name": "Python 3",
   "language": "python",
   "name": "python3"
  },
  "language_info": {
   "codemirror_mode": {
    "name": "ipython",
    "version": 3
   },
   "file_extension": ".py",
   "mimetype": "text/x-python",
   "name": "python",
   "nbconvert_exporter": "python",
   "pygments_lexer": "ipython3",
   "version": "3.6.2"
  }
 },
 "nbformat": 4,
 "nbformat_minor": 2
}
