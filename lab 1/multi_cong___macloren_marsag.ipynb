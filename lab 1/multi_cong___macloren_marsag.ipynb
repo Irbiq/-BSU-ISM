{
 "cells": [
  {
   "cell_type": "code",
   "execution_count": 410,
   "metadata": {
    "scrolled": false
   },
   "outputs": [
    {
     "name": "stdout",
     "output_type": "stream",
     "text": [
      "\t Mult cong  \t MacLaren-Marsaglia\n",
      "1 \t 0.477876225021   0.646218533162\n",
      "15 \t 0.113855318632   0.341329486575\n",
      "100 \t 0.540152164642   0.255160468165\n",
      "900 \t 0.498978825752   0.486700112466\n",
      "1000 \t 0.257560538594   0.754448951688\n",
      "Test moments mkm \t True\n",
      "Test moments mmm \t True\n",
      "Cov test faild j :  11\n",
      "Cov test faild j :  20\n",
      "Cov test faild j :  26\n",
      "[0.082683258801980131, 0.0011091428208300225, 0.00050824315941216947, 0.0027849921921903609, 0.00012316891353569837, 0.002658474799604682, 0.0025235991557487902, 0.0010968874163946873, 0.0026315687651262687, 0.00058942992825578022, 0.00078391012930489889, 0.0072175155345626241, 0.00057778015766973834, 0.0035057847161164002, 0.0014869768002717665, 0.0018983180459474225, 0.00045619816675757097, 0.00041131535113114737, 0.00046881858909225693, 0.0022631613130355555, 0.0093020691155828727, 0.00093147619882993915, 0.00094201706554747355, 0.0023766388902266011, 0.0013636716056311671, 0.0040980727182847732, 0.0061574804466806854, 0.0047137426219639456, 0.0017380208352800741, 0.0013592579708152086]\n",
      "[{0: True}, {1: True}, {2: True}, {3: True}, {4: True}, {5: True}, {6: True}, {7: True}, {8: True}, {9: True}, {10: True}, {11: False}, {12: True}, {13: True}, {14: True}, {15: True}, {16: True}, {17: True}, {18: True}, {19: True}, {20: False}, {21: True}, {22: True}, {23: True}, {24: True}, {25: True}, {26: False}, {27: True}, {28: True}, {29: True}]\n"
     ]
    },
    {
     "name": "stderr",
     "output_type": "stream",
     "text": [
      "C:\\Interpreters\\Anaconda3\\lib\\site-packages\\ipykernel_launcher.py:11: RuntimeWarning: overflow encountered in long_scalars\n",
      "  # This is added back by InteractiveShellApp.init_path()\n"
     ]
    },
    {
     "data": {
      "image/png": "[encoded data removed]",
      "text/plain": [
       "<matplotlib.figure.Figure at 0x179051a65f8>"
      ]
     },
     "metadata": {},
     "output_type": "display_data"
    }
   ],
   "source": [
    "import numpy as np\n",
    "from functools import reduce\n",
    "from scipy.special import erf\n",
    "import pandas as pd\n",
    "import matplotlib.pyplot as plt\n",
    "m = 2**31\n",
    "def generate_mkm(n,a,b):\n",
    "    b = np.maximum(b, m - b);\n",
    "    values = [a]\n",
    "    for i in range(1,n+1):\n",
    "        values.append( ((values[i-1]*b)%m)) \n",
    "    for i in range(0,n+1): \n",
    "        values[i]/=m ###fix###\n",
    "    return values\n",
    "def generate_mmm(n,k,l1,l2):\n",
    "    b,c = l1[1:],l2[1:]\n",
    "    values= []\n",
    "    v=b[:]\n",
    "    for i in range(0,n):\n",
    "        ind = int(np.floor(c[i]*k))\n",
    "        values.append(v[ind])\n",
    "        v[ind]=b[i+k]\n",
    "    return values\n",
    "\n",
    "def fi(x):\n",
    "    return 1/2 * (1 + erf(x / 2**(1/2)))\n",
    "\n",
    "def test_moments(l,eps):\n",
    "    n,m,s=len(l)-1,0,0\n",
    "    m=sum(l[1:])/n\n",
    "    s=reduce( lambda a,x: a+(x-m)**2 ,l,0)/(n-1)\n",
    "    x_1,x_2=np.abs(m-0.5),np.abs(s-1/12)\n",
    "    с_1= (12*n)**(1/2)\n",
    "    с_2 = (n-1/n)*( (0.0056/n + 0.0028/n**2 - 0.0083/n**3)**1/2)\n",
    "    p1 = 2 * (1 - fi(с_1 * x_1))\n",
    "    p2 = 2 * (1 - fi( с_2 * x_2))\n",
    "    return (p1>eps) and (p2>eps)\n",
    "                  \n",
    "l1,l2=generate_mkm(1000+224,14726181, 187541225),generate_mkm(10000,392177641, 327684489)\n",
    "l3 = generate_mmm(1000,224,l1,l2)\n",
    "\n",
    "indexes = [1, 15, 100, 900, 1000]\n",
    "print('\\t','Mult cong ','\\t','MacLaren-Marsaglia')\n",
    "for i in indexes:\n",
    "    print(i,'\\t',l1[i],' ',l3[i-1])\n",
    "print('Test moments mkm','\\t', test_moments(l1,0.05))\n",
    "print('Test moments mmm','\\t',test_moments(l3,0.05))\n",
    "\n",
    "def test_cov(l,t,eps):\n",
    "    r_ = []\n",
    "    r = []\n",
    "    p = []\n",
    "    n=len(l)-1\n",
    "    c = [ 1 for i in range(0,len(l)+1)]\n",
    "    r = [ 0 for i in range(0,len(l)+1)]\n",
    "    c[0]=2**(1/2)\n",
    "    r[0]=1/12\n",
    "    # FI(0.05)=1,96 табл 1.4 стр 27\n",
    "    m=sum(l[1:])/n\n",
    "    for j in range(0,t):\n",
    "        r_.append( abs( 1/(n-j-1)*sum([ l[i]*l[i+j] for i in range(2,n-j+1)] ) - (n/(n-1))*(m**2) ) ) \n",
    "        dif = np.abs(r_[j]-r[j])\n",
    "        p.append( {j:dif<(c[j]*1.96/ (12*(n-1)**(1/2)))})\n",
    "        if(p[j][j] == False):\n",
    "            print('Cov test faild j : ' ,j)\n",
    "    print(r_)\n",
    "    print(p)\n",
    "test_cov(l3,30,0.05)\n",
    "\n",
    "plt.hist(l2, bins=10)\n",
    "plt.show()"
   ]
  },
  {
   "cell_type": "code",
   "execution_count": null,
   "metadata": {
    "collapsed": true
   },
   "outputs": [],
   "source": []
  }
 ],
 "metadata": {
  "kernelspec": {
   "display_name": "Python 3",
   "language": "python",
   "name": "python3"
  },
  "language_info": {
   "codemirror_mode": {
    "name": "ipython",
    "version": 3
   },
   "file_extension": ".py",
   "mimetype": "text/x-python",
   "name": "python",
   "nbconvert_exporter": "python",
   "pygments_lexer": "ipython3",
   "version": "3.6.1"
  }
 },
 "nbformat": 4,
 "nbformat_minor": 2
}
