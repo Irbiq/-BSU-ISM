{
 "cells": [
  {
   "cell_type": "code",
   "execution_count": 2,
   "metadata": {
    "collapsed": true
   },
   "outputs": [],
   "source": [
    "import numpy as np\n",
    "import matplotlib.pyplot as plt\n",
    "import random as rd\n",
    "import matplotlib\n",
    "%matplotlib inline\n",
    "import scipy.stats as st\n"
   ]
  },
  {
   "cell_type": "code",
   "execution_count": 159,
   "metadata": {},
   "outputs": [
    {
     "name": "stdout",
     "output_type": "stream",
     "text": [
      "6.55669455104\n",
      "expected \t 5 \t 9\n",
      "real \t 4.99394679672 \t 8.89594990295\n"
     ]
    },
    {
     "data": {
      "image/png": "[encoded data removed]",
      "text/plain": [
       "<matplotlib.figure.Figure at 0x22d517b3208>"
      ]
     },
     "metadata": {},
     "output_type": "display_data"
    }
   ],
   "source": [
    "m = 5\n",
    "s2 = 9\n",
    "\n",
    "n = 10000\n",
    "N = 48\n",
    "\n",
    "mean = m /  N\n",
    "variance = np.sqrt(s2 /N)\n",
    "\n",
    "\n",
    "def normal():\n",
    "    return sum(variance*np.sqrt(12)*(np.random.random(N)-0.5)+mean)\n",
    "\n",
    "print(normal())\n",
    "\n",
    "normal = np.array([sum(variance*np.sqrt(12)*(np.random.random(N)-0.5)+mean) for i in range(n)])\n",
    "print('expected','\\t',m,'\\t',s2)\n",
    "print('real','\\t',normal.mean(),'\\t',((n-1)/n)*normal.var())\n",
    "a = plt.hist(normal, bins =100)\n",
    "\n"
   ]
  },
  {
   "cell_type": "code",
   "execution_count": 160,
   "metadata": {},
   "outputs": [
    {
     "name": "stdout",
     "output_type": "stream",
     "text": [
      "t-distribution\n",
      "expected mean :  \t 0 \t \t variance :  \t 1.5\n",
      "real mean :  \t -0.0258609509525 \t variance :  \t 1.4430179708\n",
      "Cauchy distribution\n",
      "expected median :  \t -1\n",
      "real median :  \t -1.03775069719\n"
     ]
    }
   ],
   "source": [
    "def сauchy (a=-1,b=3): #a-x0 b-gamma # mean and variance = undefined\n",
    "    y=np.random.rand()\n",
    "    x=a+b*np.tan(np.pi*(y-0.5)) \n",
    "    return x\n",
    "\n",
    "\n",
    "def  t_distr(m=6): #распр стьюдента # (m>2) variance = m/m-2 | (m>1) ? mean = 0 : otherwise undefined \n",
    "    return st.t.rvs(df=m)\n",
    "\n",
    "def generate_values(n=10000):\n",
    "    cauchy_values =[ сauchy() for i in range(n)]\n",
    "    t_distr_values = [t_distr() for i in range(n)]\n",
    "    c_t = np.array(cauchy_values)\n",
    "    t_t = np.array(t_distr_values)\n",
    "    print('t-distribution')\n",
    "    print('expected mean : ','\\t',0,'\\t','\\t','variance : ','\\t',6/4 )\n",
    "    print('real mean : ','\\t',np.mean(t_distr_values),'\\t','variance : ','\\t',np.var(t_distr_values) )\n",
    "    \n",
    "    print('Cauchy distribution')\n",
    "    print('expected median : ','\\t',-1)\n",
    "    print('real median : ','\\t',np.median(cauchy_values))\n",
    "    return cauchy_values,t_distr_values\n",
    "c,t = generate_values()"
   ]
  },
  {
   "cell_type": "code",
   "execution_count": 161,
   "metadata": {},
   "outputs": [
    {
     "name": "stdout",
     "output_type": "stream",
     "text": [
      "2.46529947762 \t 11.5340483528\n",
      "2.5 \t 11.5\n"
     ]
    }
   ],
   "source": [
    "def normal():\n",
    "    return sum(variance*np.sqrt(12)*(np.random.random(N)-0.5)+mean)\n",
    "\n",
    "def comb_distribution(pi=0.5,n=10000):\n",
    "    cd_values = list();\n",
    "    for i in range(n):\n",
    "        r = np.random.rand()\n",
    "        val = t_distr() if r<pi else normal()\n",
    "        cd_values.append(val)\n",
    "    return cd_values\n",
    "\n",
    "def mean_variance_cd(pi=0.5,m_n=5,v_n=9,m_t=0,v_t=1.5):\n",
    "    mean = (1-pi)*m_n + (pi)*m_t\n",
    "    variance = (1-pi)*((m_n-mean)**2+ v_n)+(pi)*((m_t-mean)**2+ v_t)\n",
    "    return mean,variance\n",
    "\n",
    "m,v = mean_variance_cd()\n",
    "cd_values = comb_distribution()\n",
    "print(np.mean(cd_values),'\\t',np.var(cd_values))\n",
    "print(m,'\\t',v)\n",
    "\n"
   ]
  },
  {
   "cell_type": "code",
   "execution_count": 3,
   "metadata": {},
   "outputs": [
    {
     "name": "stdout",
     "output_type": "stream",
     "text": [
      "\t mean \t\t\t\t variance\n",
      "-0.00432978506526 0.00667320931839 0.995525817003 1.01052067591\n",
      "-0.00432978506526 0.00667320931839\n",
      "-0.00767555757263\n"
     ]
    }
   ],
   "source": [
    "def box_muller(n=10000):\n",
    "    z0_values = list()\n",
    "    z1_values = list()\n",
    "    z_values = list()\n",
    "    for i in range(n):\n",
    "        r1 = np.random.rand()\n",
    "        r2 = np.random.rand()\n",
    "        z0 = np.cos(2*np.pi*r1)*(-2*np.log(r2))**0.5\n",
    "        z1 = np.sin(2*np.pi*r1)*(-2*np.log(r2))**0.5\n",
    "        z0_values.append(z0)\n",
    "        z1_values.append(z1)\n",
    "        z_values.append(z0)\n",
    "        z_values.append(z1)\n",
    "    return z0_values,z1_values,z_values\n",
    "z0_v,z1_v,z_v = box_muller()\n",
    "print('\\t','mean','\\t\\t\\t\\t','variance')\n",
    "print (np.mean(z0_v) ,np.mean(z1_v),np.var(z0_v),np.var(z1_v) )\n",
    "\n",
    "z0_aver = np.average(z0_v)\n",
    "z1_aver = np.average(z1_v)\n",
    "\n",
    "print(z0_aver,z1_aver)\n",
    "nnn = len(z0_v)\n",
    "def cov():\n",
    "    s_u = 0\n",
    "    s_l_x=0\n",
    "    s_l_y=0\n",
    "    s_l=0\n",
    "    for i in range(nnn):\n",
    "        s_u+=(z0_v[i]-z0_aver)*(z1_v[i]-z1_aver)\n",
    "    for i in range(len(z0_v)):\n",
    "        s_l_x+=(z0_v[i]-z0_aver)**2\n",
    "        s_l_y+=((z1_v[i]-z1_aver)**2)\n",
    "    s_l=(s_l_x*s_l_y)**0.5\n",
    "    return s_u/s_l\n",
    "print(cov())\n",
    "    "
   ]
  }
 ],
 "metadata": {
  "kernelspec": {
   "display_name": "Python 3",
   "language": "python",
   "name": "python3"
  },
  "language_info": {
   "codemirror_mode": {
    "name": "ipython",
    "version": 3
   },
   "file_extension": ".py",
   "mimetype": "text/x-python",
   "name": "python",
   "nbconvert_exporter": "python",
   "pygments_lexer": "ipython3",
   "version": "3.6.2"
  }
 },
 "nbformat": 4,
 "nbformat_minor": 2
}
