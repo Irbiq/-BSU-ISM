{
 "cells": [
  {
   "cell_type": "markdown",
   "metadata": {},
   "source": [
    "### 6) Геометрическое – `G(p), p = 0.1` \n",
    "### Обратное биномиальное – `(r,m), r = 4, p = 0.2.`"
   ]
  },
  {
   "cell_type": "code",
   "execution_count": 47,
   "metadata": {},
   "outputs": [
    {
     "name": "stdout",
     "output_type": "stream",
     "text": [
      "geom distr\n",
      "expected\n",
      "mean 9.0 variance 89.99999999999999\n",
      "real\n",
      "mean 9.914 variance 87.348604\n",
      "\n",
      "geom distr\n",
      "expected skew :  2.0027758514399734  kurt :  6.011111111111111\n",
      "skew  2.029019119814564 kurtosis  6.471506231810055\n",
      "\n",
      "neg_binom distr\n",
      "expected skew :  1.3416407864998738  kurt :  2.3000000000000003\n",
      "skew  0.864099356716475 kurtosis  0.8619647691658194\n",
      "\n",
      "neg binom distr\n",
      "expected\n",
      "mean 16.0 variance 79.99999999999999\n",
      "real\n",
      "mean 16.013 variance 76.718831\n"
     ]
    },
    {
     "data": {
      "image/png": "[encoded data removed]",
      "text/plain": [
       "<matplotlib.figure.Figure at 0x187c2d3b390>"
      ]
     },
     "metadata": {},
     "output_type": "display_data"
    },
    {
     "data": {
      "image/png": "[encoded data removed]",
      "text/plain": [
       "<matplotlib.figure.Figure at 0x187c2e7edd8>"
      ]
     },
     "metadata": {},
     "output_type": "display_data"
    },
    {
     "data": {
      "image/png": "[encoded data removed]",
      "text/plain": [
       "<matplotlib.figure.Figure at 0x187c4148278>"
      ]
     },
     "metadata": {},
     "output_type": "display_data"
    },
    {
     "data": {
      "image/png": "[encoded data removed]",
      "text/plain": [
       "<matplotlib.figure.Figure at 0x187c34acb70>"
      ]
     },
     "metadata": {},
     "output_type": "display_data"
    }
   ],
   "source": [
    "import numpy as np\n",
    "import matplotlib.pyplot as plt\n",
    "import random as rd\n",
    "import matplotlib\n",
    "import scipy.stats as st\n",
    "import scipy.special as ssp\n",
    "\n",
    "import numpy as np\n",
    "import pandas as pd\n",
    "%matplotlib inline  \n",
    "import scipy.integrate as integrate\n",
    "import scipy.special as special\n",
    "result = integrate.quad(lambda x: special.jv(2.5,x), 0, 4.5)\n",
    "\n",
    "\n",
    "\n",
    "def g(p=0.1):\n",
    "    x = np.random.rand()\n",
    "    val =  int(np.ceil(np.log(x)/np.log(1-p)))\n",
    "    return val\n",
    "\n",
    "def nb(r=4,p=0.2):\n",
    "    #x = np.random.rand()\n",
    "    #val=0\n",
    "    #b_l=0\n",
    "    #b_r=ssp.betainc(r,val+1,p)\n",
    "    #print(b_r,x)\n",
    "    return np.random.negative_binomial(r,p)\n",
    "    '''while True :\n",
    "        if  b_l<=x<b_r:\n",
    "            return val\n",
    "        print(val)\n",
    "        b_l=b_r\n",
    "        ++val\n",
    "        b_r=ssp.betainc(r,val+1,p)'''\n",
    "def d(r=4,p=0.2): # r=m= m-succeses\n",
    "    return 1\n",
    "    \n",
    "#print(ssp.beta(4,10),ssp.betainc(4,10,1.1)) #не работает betainc\n",
    "\n",
    "b_r=ssp.betainc(4,1,0.2)\n",
    "geom_values = [ g() for i in range(1000)]\n",
    "nb_values = [ nb() for i in range(1000) ]\n",
    "0.9/0.1*0.1\n",
    "print('geom distr')\n",
    "print('expected')\n",
    "print('mean',0.9/0.1,'variance',0.9/0.1**2) # p/q p/q^2\n",
    "print('real')\n",
    "print('mean',np.mean(geom_values),'variance',np.var(geom_values))\n",
    "\n",
    "print()\n",
    "print('geom distr')\n",
    "print ('expected skew : ', (2-0.1)/(1-0.1)**(1/2),' kurt : ', 6+0.1**2/(1-0.1) )\n",
    "print ( 'skew ',st.skew(geom_values),'kurtosis ',st.kurtosis(geom_values))# (2-p)/(1-p)^1/2 | 6+p^2/(1-p) \n",
    "\n",
    "print()\n",
    "print('neg_binom distr')\n",
    "print ('expected skew : ', (1+0.2)/(0.2*4)**(1/2),' kurt : ', 6/4+(1-0.2)**2/(4*0.2) )\n",
    "print ( 'skew ',st.skew(nb_values),'kurtosis ',st.kurtosis(nb_values))# (1+p)/sqrt(rp) | 6/r+(1-p)^2/pr\n",
    "\n",
    "\n",
    "print()\n",
    "print('neg binom distr')\n",
    "print('expected')\n",
    "print('mean',4*0.8/0.2,'variance',4*0.8/0.2**2) # rq/p rp/q^2\n",
    "print('real')\n",
    "print('mean',np.mean(nb_values),'variance',np.var(nb_values))\n",
    "\n",
    "geom_values.sort()\n",
    "nb_values.sort()\n",
    "\n",
    "plt.step(geom_values, np.arange(len(geom_values)))  # From 0 to the number of data points-1\n",
    "plt.show()\n",
    "\n",
    "plt.step(nb_values, np.arange(len(nb_values)))  # From 0 to the number of data points-1\n",
    "plt.show()\n",
    "\n",
    "\n",
    "\n",
    "df = pd.DataFrame(geom_values)\n",
    "df.plot(kind='hist',bins=100);\n",
    "\n",
    "df = pd.DataFrame(nb_values)\n",
    "df.plot(kind='hist',bins=100);\n",
    "\n",
    "\n",
    "\n",
    "\n",
    "    "
   ]
  }
 ],
 "metadata": {
  "kernelspec": {
   "display_name": "Python 3",
   "language": "python",
   "name": "python3"
  },
  "language_info": {
   "codemirror_mode": {
    "name": "ipython",
    "version": 3
   },
   "file_extension": ".py",
   "mimetype": "text/x-python",
   "name": "python",
   "nbconvert_exporter": "python",
   "pygments_lexer": "ipython3",
   "version": "3.6.2"
  }
 },
 "nbformat": 4,
 "nbformat_minor": 2
}
